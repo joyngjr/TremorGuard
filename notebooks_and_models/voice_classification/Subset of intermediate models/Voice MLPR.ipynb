{
 "cells": [
  {
   "cell_type": "code",
   "execution_count": 1,
   "id": "9ceb792b-dda7-4877-a829-dcc4394ae08e",
   "metadata": {},
   "outputs": [
    {
     "name": "stdout",
     "output_type": "stream",
     "text": [
      "[[0.07116434 0.06432442 0.03963547 ... 0.07926653 0.01872258 0.55171747]\n",
      " [0.02988677 0.01590631 0.01301895 ... 0.01552217 0.01196833 0.72531478]\n",
      " [0.04161592 0.02447125 0.01764791 ... 0.02444224 0.04078217 0.68980561]\n",
      " ...\n",
      " [0.05063834 0.02080056 0.02083032 ... 0.07508589 0.02328289 0.64628893]\n",
      " [0.04071367 0.01660549 0.01562274 ... 0.03298978 0.0102918  0.62853435]\n",
      " [0.04251816 0.01782905 0.01779256 ... 0.0487396  0.01054315 0.59642147]]\n",
      "0       34.398\n",
      "1       34.398\n",
      "2       34.398\n",
      "3       34.398\n",
      "4       34.399\n",
      "         ...  \n",
      "5870    33.485\n",
      "5871    32.988\n",
      "5872    32.495\n",
      "5873    32.007\n",
      "5874    31.513\n",
      "Name: UPDRS, Length: 5875, dtype: float64\n"
     ]
    }
   ],
   "source": [
    "#ref from https://link.springer.com/article/10.1007/s11042-023-14932-x#Sec3\n",
    "import pandas as pd\n",
    "voice2 = pd.read_csv('Voice2.csv')\n",
    "\n",
    "#normalise \n",
    "from sklearn import preprocessing\n",
    "import numpy as np\n",
    "\n",
    "columns_to_normalize = ['Jitter (local, absolute)', 'Jitter (rap)', 'Jitter (ppq5)',\n",
    "       'Jitter (ddp)', 'Shimmer (local)', 'Shimmer (local,dB)',\n",
    "       'Shimmer (apq3)', 'Shimmer (apq5)', 'Shimmer (apq11)', 'Shimmer (dda)',\n",
    "       'Noise to harmonics', 'Harmonics to noise']\n",
    "\n",
    "scaler = preprocessing.MinMaxScaler(feature_range=(0, 1))\n",
    "X = scaler.fit_transform(voice2[columns_to_normalize])\n",
    "Y = voice2['UPDRS']\n",
    "\n",
    "print(X)\n",
    "print(Y)\n"
   ]
  },
  {
   "cell_type": "code",
   "execution_count": 2,
   "id": "4e1ac808-e300-4da3-8944-608945e0bcaa",
   "metadata": {},
   "outputs": [],
   "source": [
    "# autoencoder first:\n",
    "# - feature reduction using unsupervised autoencoder to eliminate non relevant info \n",
    "# - 1 encoder, dense layer of 200 neurons btw input layer and latent space, decoder symmetrical with encoder \n",
    "# - latent space 10 neurons so initial data is reduced to 10 features \n",
    "\n",
    "# MLP (can be used alone):\n",
    "# - 80% training 20% testing \n",
    "# - 1000 epochs, batch size 20\n",
    "# - MLP 1 input layer, 1 output layer, 4 dense intermediate layers with 100, 200, 300, 100 neurons respectively + 2 dropout layers to avoid overfitting\n",
    "# - if binary classification - 1 output neuron w sigmoid activation function \n",
    "# - if regression - relu activation function\n",
    "\n",
    "\n"
   ]
  },
  {
   "cell_type": "code",
   "execution_count": 6,
   "id": "0bee44f8-345c-4469-8b4a-ea27114a9a89",
   "metadata": {},
   "outputs": [
    {
     "name": "stdout",
     "output_type": "stream",
     "text": [
      "train x: \n",
      "tensor([[0.1345, 0.0615, 0.0567,  ..., 0.1165, 0.0325, 0.4745],\n",
      "        [0.0842, 0.0699, 0.0433,  ..., 0.0313, 0.0940, 0.6500],\n",
      "        [0.0694, 0.0393, 0.0305,  ..., 0.1045, 0.0139, 0.5273],\n",
      "        ...,\n",
      "        [0.0321, 0.0149, 0.0113,  ..., 0.0646, 0.0044, 0.7125],\n",
      "        [0.0256, 0.0215, 0.0165,  ..., 0.0441, 0.0072, 0.6500],\n",
      "        [0.1023, 0.0451, 0.0383,  ..., 0.0903, 0.0373, 0.5270]])\n",
      "train y: \n",
      "tensor([14.1800, 10.8580, 16.9840,  ..., 31.8800, 36.9840, 37.8910])\n"
     ]
    }
   ],
   "source": [
    "from sklearn.model_selection import train_test_split\n",
    "import torch\n",
    "from torch.utils.data import TensorDataset, DataLoader\n",
    "\n",
    "train_x, test_x, train_y, test_y = train_test_split(X, Y, test_size = 0.2)\n",
    "train_x = torch.Tensor(train_x)\n",
    "train_y = torch.Tensor(train_y.to_numpy())\n",
    "test_x = torch.Tensor(test_x)\n",
    "test_y = torch.Tensor(test_y.to_numpy())\n",
    "print(\"train x: \")\n",
    "print(train_x)\n",
    "print(\"train y: \")\n",
    "print(train_y)\n",
    "\n",
    "train_dataset = TensorDataset(train_x, train_y)\n",
    "test_dataset = TensorDataset(test_x, test_y)\n",
    "\n",
    "train_loader = DataLoader(train_dataset)\n",
    "test_loader = DataLoader(test_dataset)\n"
   ]
  },
  {
   "cell_type": "code",
   "execution_count": 7,
   "id": "f77d7be2-befb-496d-ac73-003be841b706",
   "metadata": {},
   "outputs": [
    {
     "name": "stdout",
     "output_type": "stream",
     "text": [
      "Training Loss: 83.0876\n",
      "Training R-squared: 0.2779\n",
      "Test Loss: 90.4429\n",
      "Test R-squared: 0.1919\n"
     ]
    }
   ],
   "source": [
    "from sklearn.neural_network import MLPRegressor\n",
    "from sklearn.metrics import mean_squared_error, r2_score\n",
    "\n",
    "mlp = MLPRegressor(hidden_layer_sizes=(100, 200, 300, 100), activation='relu', tol=1e-6, max_iter=1000)\n",
    "mlp.fit(train_x, train_y)\n",
    "\n",
    "train_y_pred = mlp.predict(train_x)\n",
    "train_loss = mean_squared_error(train_y, train_y_pred)\n",
    "train_r2 = r2_score(train_y, train_y_pred)\n",
    "\n",
    "# Evaluate the model on the testing set\n",
    "test_y_pred = mlp.predict(test_x)\n",
    "test_loss = mean_squared_error(test_y, test_y_pred)\n",
    "test_r2 = r2_score(test_y, test_y_pred)\n",
    "\n",
    "print(f\"Training Loss: {train_loss:.4f}\")\n",
    "print(f\"Training R-squared: {train_r2:.4f}\")\n",
    "print(f\"Test Loss: {test_loss:.4f}\")\n",
    "print(f\"Test R-squared: {test_r2:.4f}\")\n",
    "\n"
   ]
  },
  {
   "cell_type": "code",
   "execution_count": 8,
   "id": "82d92c4d-0039-49cf-abf7-5c3126f1f8a4",
   "metadata": {},
   "outputs": [
    {
     "name": "stdout",
     "output_type": "stream",
     "text": [
      "Accuracy on test data: 4.09%\n",
      "Accuracy on train data: 20.26%\n",
      "Root Mean Square Error (RMSE) on test data: 9.5101\n"
     ]
    }
   ],
   "source": [
    "tolerance = 0.5\n",
    "total = len(test_y)\n",
    "\n",
    "accuracy_test = (sum(abs(test_y - test_y_pred) <= tolerance)/total)*100.0\n",
    "print(f\"Accuracy on test data: {accuracy_test:.2f}%\")\n",
    "accuracy_train = (sum(abs(train_y - train_y_pred) <= tolerance)/total)*100.0\n",
    "print(f\"Accuracy on train data: {accuracy_train:.2f}%\")\n",
    "\n",
    "rmse = np.sqrt(test_loss)\n",
    "\n",
    "print(f\"Root Mean Square Error (RMSE) on test data: {rmse:.4f}\")\n"
   ]
  },
  {
   "cell_type": "code",
   "execution_count": null,
   "id": "4f1d47d6-0181-4720-99b5-420d54ed1e2e",
   "metadata": {},
   "outputs": [],
   "source": []
  },
  {
   "cell_type": "code",
   "execution_count": null,
   "id": "7112e08b-255d-4adc-a09b-21379acfc997",
   "metadata": {},
   "outputs": [],
   "source": []
  }
 ],
 "metadata": {
  "kernelspec": {
   "display_name": "Python 3 (ipykernel)",
   "language": "python",
   "name": "python3"
  },
  "language_info": {
   "codemirror_mode": {
    "name": "ipython",
    "version": 3
   },
   "file_extension": ".py",
   "mimetype": "text/x-python",
   "name": "python",
   "nbconvert_exporter": "python",
   "pygments_lexer": "ipython3",
   "version": "3.11.6"
  }
 },
 "nbformat": 4,
 "nbformat_minor": 5
}
